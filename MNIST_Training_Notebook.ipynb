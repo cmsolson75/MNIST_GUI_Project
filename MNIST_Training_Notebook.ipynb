{
 "cells": [
  {
   "cell_type": "markdown",
   "metadata": {},
   "source": [
    "# MNIST Digit Classifier Training"
   ]
  },
  {
   "cell_type": "markdown",
   "metadata": {},
   "source": [
    "## Import Necessary Libraries"
   ]
  },
  {
   "cell_type": "code",
   "execution_count": 10,
   "id": "d4b08530",
   "metadata": {},
   "outputs": [],
   "source": [
    "import torch\n",
    "from src.data_utils import load_mnist_data, get_data_loaders\n",
    "from src.training import train_model\n",
    "from src.visualization import visualize_training"
   ]
  },
  {
   "cell_type": "markdown",
   "id": "1528e679",
   "metadata": {},
   "source": [
    "## Load Data and Prepare DataLoaders"
   ]
  },
  {
   "cell_type": "code",
   "execution_count": 11,
   "id": "e72d8616",
   "metadata": {},
   "outputs": [],
   "source": [
    "# Paths to the MNIST data files\n",
    "train_data_path = './data/mnist_train.csv'\n",
    "test_data_path = './data/mnist_test.csv'\n",
    "\n",
    "# Load data and get DataLoaders\n",
    "train_dataset, test_dataset = load_mnist_data(train_data_path, test_data_path)\n",
    "train_loader, val_loader = get_data_loaders(train_dataset, test_dataset, batch_size=64)"
   ]
  },
  {
   "cell_type": "markdown",
   "id": "b0d7aa90",
   "metadata": {},
   "source": [
    "## Train the Model"
   ]
  },
  {
   "cell_type": "code",
   "execution_count": 12,
   "id": "65d764e5",
   "metadata": {},
   "outputs": [
    {
     "name": "stderr",
     "output_type": "stream",
     "text": [
      "Epoch 1 - Training: 100%|██████████| 938/938 [00:33<00:00, 28.08it/s]\n",
      "Epoch 1 - Validation: 100%|██████████| 157/157 [00:01<00:00, 83.13it/s]\n"
     ]
    },
    {
     "name": "stdout",
     "output_type": "stream",
     "text": [
      "Epoch 1/10: Train Loss: 0.2725, Train Accuracy: 91.52%, Val Loss: 0.0565, Val Accuracy: 98.25%\n"
     ]
    },
    {
     "name": "stderr",
     "output_type": "stream",
     "text": [
      "Epoch 2 - Training: 100%|██████████| 938/938 [00:33<00:00, 27.94it/s]\n",
      "Epoch 2 - Validation: 100%|██████████| 157/157 [00:01<00:00, 79.99it/s]\n"
     ]
    },
    {
     "name": "stdout",
     "output_type": "stream",
     "text": [
      "Epoch 2/10: Train Loss: 0.0973, Train Accuracy: 97.15%, Val Loss: 0.0367, Val Accuracy: 98.72%\n"
     ]
    },
    {
     "name": "stderr",
     "output_type": "stream",
     "text": [
      "Epoch 3 - Training: 100%|██████████| 938/938 [00:33<00:00, 27.65it/s]\n",
      "Epoch 3 - Validation: 100%|██████████| 157/157 [00:01<00:00, 82.79it/s]\n"
     ]
    },
    {
     "name": "stdout",
     "output_type": "stream",
     "text": [
      "Epoch 3/10: Train Loss: 0.0704, Train Accuracy: 97.86%, Val Loss: 0.0317, Val Accuracy: 98.94%\n"
     ]
    },
    {
     "name": "stderr",
     "output_type": "stream",
     "text": [
      "Epoch 4 - Training: 100%|██████████| 938/938 [00:34<00:00, 26.90it/s]\n",
      "Epoch 4 - Validation: 100%|██████████| 157/157 [00:01<00:00, 78.54it/s]\n"
     ]
    },
    {
     "name": "stdout",
     "output_type": "stream",
     "text": [
      "Epoch 4/10: Train Loss: 0.0600, Train Accuracy: 98.23%, Val Loss: 0.0305, Val Accuracy: 98.94%\n"
     ]
    },
    {
     "name": "stderr",
     "output_type": "stream",
     "text": [
      "Epoch 5 - Training: 100%|██████████| 938/938 [00:34<00:00, 27.39it/s]\n",
      "Epoch 5 - Validation: 100%|██████████| 157/157 [00:01<00:00, 78.87it/s]\n"
     ]
    },
    {
     "name": "stdout",
     "output_type": "stream",
     "text": [
      "Epoch 5/10: Train Loss: 0.0484, Train Accuracy: 98.55%, Val Loss: 0.0269, Val Accuracy: 99.09%\n"
     ]
    },
    {
     "name": "stderr",
     "output_type": "stream",
     "text": [
      "Epoch 6 - Training: 100%|██████████| 938/938 [00:34<00:00, 27.15it/s]\n",
      "Epoch 6 - Validation: 100%|██████████| 157/157 [00:01<00:00, 78.68it/s]\n"
     ]
    },
    {
     "name": "stdout",
     "output_type": "stream",
     "text": [
      "Epoch 6/10: Train Loss: 0.0432, Train Accuracy: 98.69%, Val Loss: 0.0224, Val Accuracy: 99.27%\n"
     ]
    },
    {
     "name": "stderr",
     "output_type": "stream",
     "text": [
      "Epoch 7 - Training: 100%|██████████| 938/938 [00:34<00:00, 27.51it/s]\n",
      "Epoch 7 - Validation: 100%|██████████| 157/157 [00:01<00:00, 79.53it/s]\n"
     ]
    },
    {
     "name": "stdout",
     "output_type": "stream",
     "text": [
      "Epoch 7/10: Train Loss: 0.0381, Train Accuracy: 98.81%, Val Loss: 0.0235, Val Accuracy: 99.24%\n"
     ]
    },
    {
     "name": "stderr",
     "output_type": "stream",
     "text": [
      "Epoch 8 - Training: 100%|██████████| 938/938 [00:34<00:00, 26.91it/s]\n",
      "Epoch 8 - Validation: 100%|██████████| 157/157 [00:01<00:00, 80.46it/s]\n"
     ]
    },
    {
     "name": "stdout",
     "output_type": "stream",
     "text": [
      "Epoch 8/10: Train Loss: 0.0336, Train Accuracy: 98.95%, Val Loss: 0.0264, Val Accuracy: 99.17%\n"
     ]
    },
    {
     "name": "stderr",
     "output_type": "stream",
     "text": [
      "Epoch 9 - Training: 100%|██████████| 938/938 [00:34<00:00, 27.38it/s]\n",
      "Epoch 9 - Validation: 100%|██████████| 157/157 [00:01<00:00, 82.30it/s]\n"
     ]
    },
    {
     "name": "stdout",
     "output_type": "stream",
     "text": [
      "Epoch 9/10: Train Loss: 0.0315, Train Accuracy: 99.01%, Val Loss: 0.0217, Val Accuracy: 99.32%\n"
     ]
    },
    {
     "name": "stderr",
     "output_type": "stream",
     "text": [
      "Epoch 10 - Training: 100%|██████████| 938/938 [00:33<00:00, 27.61it/s]\n",
      "Epoch 10 - Validation: 100%|██████████| 157/157 [00:01<00:00, 79.21it/s]"
     ]
    },
    {
     "name": "stdout",
     "output_type": "stream",
     "text": [
      "Epoch 10/10: Train Loss: 0.0263, Train Accuracy: 99.16%, Val Loss: 0.0207, Val Accuracy: 99.29%\n"
     ]
    },
    {
     "name": "stderr",
     "output_type": "stream",
     "text": [
      "\n"
     ]
    }
   ],
   "source": [
    "# Train the model and get training metrics\n",
    "train_losses, train_accuracies, val_losses, val_accuracies = train_model(train_loader, val_loader)"
   ]
  },
  {
   "cell_type": "markdown",
   "id": "de71685e",
   "metadata": {},
   "source": [
    "## Visualize Training and Validation Metrics"
   ]
  },
  {
   "cell_type": "code",
   "execution_count": 13,
   "id": "45b9a156",
   "metadata": {},
   "outputs": [
    {
     "data": {
      "image/png": "[encoded data removed]",
      "text/plain": [
       "<Figure size 864x360 with 2 Axes>"
      ]
     },
     "metadata": {
      "needs_background": "light"
     },
     "output_type": "display_data"
    }
   ],
   "source": [
    "# Visualize the training and validation metrics\n",
    "visualize_training(train_losses, train_accuracies, val_losses, val_accuracies)"
   ]
  },
  {
   "cell_type": "code",
   "execution_count": null,
   "id": "574a2fbd",
   "metadata": {},
   "outputs": [],
   "source": []
  }
 ],
 "metadata": {
  "kernelspec": {
   "display_name": "Python 3",
   "language": "python",
   "name": "python3"
  },
  "language_info": {
   "codemirror_mode": {
    "name": "ipython",
    "version": 3
   },
   "file_extension": ".py",
   "mimetype": "text/x-python",
   "name": "python",
   "nbconvert_exporter": "python",
   "pygments_lexer": "ipython3",
   "version": "3.8.5"
  }
 },
 "nbformat": 4,
 "nbformat_minor": 5
}
